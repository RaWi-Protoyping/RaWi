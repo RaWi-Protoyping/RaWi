{
 "cells": [
  {
   "cell_type": "code",
   "execution_count": 1,
   "id": "cleared-depth",
   "metadata": {},
   "outputs": [],
   "source": [
    "import pandas as pd\n",
    "import numpy as np\n",
    "from ast import literal_eval\n",
    "import seaborn\n",
    "\n",
    "seaborn.set_theme()\n",
    "\n",
    "pd.set_option('display.max_rows', 500)\n",
    "pd.set_option('display.max_columns', 500)\n",
    "pd.set_option('display.width', 5000)\n",
    "pd.set_option('display.max_colwidth', 5000)"
   ]
  },
  {
   "cell_type": "markdown",
   "id": "automotive-broadcast",
   "metadata": {},
   "source": [
    "# 1. Load the Goldstandard Batches"
   ]
  },
  {
   "cell_type": "code",
   "execution_count": 2,
   "id": "sorted-ocean",
   "metadata": {},
   "outputs": [],
   "source": [
    "# Load the previously generated two goldstandard batches\n",
    "abs_path = '../data/gui_ranking/mturk/'\n",
    "\n",
    "goldstandard_batch_1 = pd.read_csv(abs_path+\"goldstandard_batch_1/06_final_dataset/goldstandard_batch_1.csv\")\n",
    "goldstandard_batch_2 = pd.read_csv(abs_path+\"goldstandard_batch_2/06_final_dataset/goldstandard_batch_2.csv\")\n",
    "\n",
    "goldstandard_batch_1_full = pd.read_csv(abs_path+\"goldstandard_batch_1/06_final_dataset/goldstandard_batch_1_full.csv\")\n",
    "goldstandard_batch_2_full = pd.read_csv(abs_path+\"goldstandard_batch_2/06_final_dataset/goldstandard_batch_2_full.csv\")\n",
    "\n",
    "goldstandard_batch = pd.concat([goldstandard_batch_1, goldstandard_batch_2])\n",
    "goldstandard_batch_full = pd.concat([goldstandard_batch_1_full, goldstandard_batch_2_full])\n",
    "\n",
    "goldstandard_batch['annotations_list'] = goldstandard_batch['annotations_list'].apply(literal_eval)\n",
    "goldstandard_batch['gui_indexes_list'] = goldstandard_batch['gui_indexes_list'].apply(literal_eval)\n",
    "goldstandard_batch['relevance'] = goldstandard_batch['relevance'].apply(literal_eval)\n",
    "goldstandard_batch['occurances'] = goldstandard_batch['occurances'].apply(literal_eval)"
   ]
  },
  {
   "cell_type": "code",
   "execution_count": 4,
   "id": "alive-wound",
   "metadata": {},
   "outputs": [
    {
     "data": {
      "text/plain": [
       "49"
      ]
     },
     "execution_count": 4,
     "metadata": {},
     "output_type": "execute_result"
    }
   ],
   "source": [
    "# Compute the number of unique workers that provided relevancy annotations\n",
    "len(list(set([elem[0] for elem in goldstandard_batch_full[['WorkerId']].values.tolist()])))"
   ]
  },
  {
   "cell_type": "code",
   "execution_count": 8,
   "id": "ongoing-document",
   "metadata": {},
   "outputs": [
    {
     "data": {
      "text/plain": [
       "(450, 6)"
      ]
     },
     "execution_count": 8,
     "metadata": {},
     "output_type": "execute_result"
    }
   ],
   "source": [
    "goldstandard_batch.shape"
   ]
  },
  {
   "cell_type": "markdown",
   "id": "hairy-venture",
   "metadata": {},
   "source": [
    "# 2. Analysis of the merged Goldstandard Batches"
   ]
  },
  {
   "cell_type": "code",
   "execution_count": 9,
   "id": "flexible-wells",
   "metadata": {},
   "outputs": [],
   "source": [
    "mv_analysis = goldstandard_batch.copy()\n",
    "mv_analysis[\"count_0\"] = mv_analysis.apply(lambda row: row['relevance'].count(0), axis=1)\n",
    "mv_analysis[\"count_1\"] = mv_analysis.apply(lambda row: row['relevance'].count(1), axis=1)\n",
    "mv_analysis[\"count_2\"] = mv_analysis.apply(lambda row: row['relevance'].count(2), axis=1)\n",
    "mv_analysis[\"count_3\"] = mv_analysis.apply(lambda row: row['relevance'].count(3), axis=1)"
   ]
  },
  {
   "cell_type": "code",
   "execution_count": 11,
   "id": "rapid-split",
   "metadata": {},
   "outputs": [
    {
     "name": "stdout",
     "output_type": "stream",
     "text": [
      "Mean num. of 0: 16.455555555555556\n",
      "Mean num. of 1: 4.526666666666666\n",
      "Mean num. of 2: 6.217777777777778\n",
      "Mean num. of 3: 2.8\n"
     ]
    }
   ],
   "source": [
    "print(\"Mean num. of 0: {}\".format(np.mean(mv_analysis['count_0'].values.tolist())))\n",
    "print(\"Mean num. of 1: {}\".format(np.mean(mv_analysis['count_1'].values.tolist())))\n",
    "print(\"Mean num. of 2: {}\".format(np.mean(mv_analysis['count_2'].values.tolist())))\n",
    "print(\"Mean num. of 3: {}\".format(np.mean(mv_analysis['count_3'].values.tolist())))"
   ]
  },
  {
   "cell_type": "code",
   "execution_count": 12,
   "id": "robust-disco",
   "metadata": {},
   "outputs": [
    {
     "data": {
      "text/plain": [
       "<AxesSubplot:ylabel='Frequency'>"
      ]
     },
     "execution_count": 12,
     "metadata": {},
     "output_type": "execute_result"
    },
    {
     "data": {
      "image/png": "[encoded data removed]",
      "text/plain": [
       "<Figure size 432x288 with 1 Axes>"
      ]
     },
     "metadata": {},
     "output_type": "display_data"
    }
   ],
   "source": [
    "mv_analysis['count_0'].plot.hist(bins=30)\n",
    "mv_analysis['count_1'].plot.hist(bins=30, alpha=0.5)\n",
    "mv_analysis['count_2'].plot.hist(bins=30, alpha=0.7)"
   ]
  },
  {
   "cell_type": "code",
   "execution_count": 13,
   "id": "connected-bryan",
   "metadata": {},
   "outputs": [],
   "source": [
    "mv_analysis['count@1'] = mv_analysis.apply(lambda row: row['relevance'][0], axis=1)"
   ]
  },
  {
   "cell_type": "code",
   "execution_count": 14,
   "id": "greenhouse-waste",
   "metadata": {},
   "outputs": [
    {
     "name": "stdout",
     "output_type": "stream",
     "text": [
      "Number of queries: 450\n",
      "Perc. of 2: 0.6888888888888889\n",
      "Perc. of 1: 0.04666666666666667\n",
      "Perc. of 2+1: 0.7355555555555555\n",
      "Perc. of 0: 0.14444444444444443\n",
      "Perc. of 3: 0.12\n"
     ]
    }
   ],
   "source": [
    "count_at_1 = [elem[0] for elem in mv_analysis[['count@1']].values.tolist()]\n",
    "num_queries = len(count_at_1)\n",
    "print('Number of queries: {}'.format(num_queries))\n",
    "print('Perc. of 2: {}'.format((count_at_1.count(2)/num_queries)))\n",
    "print('Perc. of 1: {}'.format((count_at_1.count(1)/num_queries)))\n",
    "print('Perc. of 2+1: {}'.format((count_at_1.count(2)/num_queries)+(count_at_1.count(1)/num_queries)))\n",
    "print('Perc. of 0: {}'.format((count_at_1.count(0)/num_queries)))\n",
    "print('Perc. of 3: {}'.format((count_at_1.count(3)/num_queries)))"
   ]
  },
  {
   "cell_type": "markdown",
   "id": "clear-engineering",
   "metadata": {},
   "source": [
    "# 3. Create Goldstandard"
   ]
  },
  {
   "cell_type": "code",
   "execution_count": 18,
   "id": "lesser-importance",
   "metadata": {},
   "outputs": [],
   "source": [
    "gs_batch = goldstandard_batch.copy()"
   ]
  },
  {
   "cell_type": "markdown",
   "id": "worse-settle",
   "metadata": {},
   "source": [
    "### 3.1. Compute Metrics and Filter Queries Initially"
   ]
  },
  {
   "cell_type": "code",
   "execution_count": 19,
   "id": "precious-citation",
   "metadata": {},
   "outputs": [],
   "source": [
    "gs_batch[\"count_0\"] = gs_batch.apply(lambda row: row['relevance'].count(0), axis=1)\n",
    "gs_batch[\"count_1\"] = gs_batch.apply(lambda row: row['relevance'].count(1), axis=1)\n",
    "gs_batch[\"count_2\"] = gs_batch.apply(lambda row: row['relevance'].count(2), axis=1)\n",
    "gs_batch[\"count_3\"] = gs_batch.apply(lambda row: row['relevance'].count(3), axis=1)"
   ]
  },
  {
   "cell_type": "code",
   "execution_count": 22,
   "id": "acting-alliance",
   "metadata": {},
   "outputs": [
    {
     "name": "stdout",
     "output_type": "stream",
     "text": [
      "Size before filtering of Rule-1: (450, 10)\n",
      "Size after filtering of Rule-1: (362, 10)\n",
      "Size before filtering of Rule-2: (362, 10)\n",
      "Size after filtering of Rule-2: (279, 10)\n"
     ]
    }
   ],
   "source": [
    "# Rule-1: Filter queries which do not have at least n GUIs with relevance 2\n",
    "print('Size before filtering of Rule-1: {}'.format(gs_batch.shape))\n",
    "N = 2\n",
    "gs_batch = gs_batch.loc[gs_batch['count_2'] >= N]\n",
    "print('Size after filtering of Rule-1: {}'.format(gs_batch.shape))\n",
    "# Rule-2: Filter queries which do not have at least two GUIs with relevance 1\n",
    "print('Size before filtering of Rule-2: {}'.format(gs_batch.shape))\n",
    "N = 2\n",
    "gs_batch = gs_batch.loc[gs_batch['count_1'] >= N]\n",
    "print('Size after filtering of Rule-2: {}'.format(gs_batch.shape))"
   ]
  },
  {
   "cell_type": "code",
   "execution_count": 24,
   "id": "collected-secretary",
   "metadata": {},
   "outputs": [],
   "source": [
    "gs_batch['count@1'] = gs_batch.apply(lambda row: row['relevance'][0], axis=1)"
   ]
  },
  {
   "cell_type": "code",
   "execution_count": 26,
   "id": "unauthorized-calculation",
   "metadata": {},
   "outputs": [
    {
     "name": "stdout",
     "output_type": "stream",
     "text": [
      "Number of queries: 279\n",
      "Perc. of 2: 0.7311827956989247\n",
      "Perc. of 1: 0.053763440860215055\n",
      "Perc. of 2+1: 0.7849462365591398\n",
      "Perc. of 0: 0.1111111111111111\n",
      "Perc. of 3: 0.1039426523297491\n"
     ]
    }
   ],
   "source": [
    "count_at_1 = [elem[0] for elem in gs_batch[['count@1']].values.tolist()]\n",
    "num_queries = len(count_at_1)\n",
    "print('Number of queries: {}'.format(num_queries))\n",
    "print('Perc. of 2: {}'.format((count_at_1.count(2)/num_queries)))\n",
    "print('Perc. of 1: {}'.format((count_at_1.count(1)/num_queries)))\n",
    "print('Perc. of 2+1: {}'.format((count_at_1.count(2)/num_queries)+(count_at_1.count(1)/num_queries)))\n",
    "print('Perc. of 0: {}'.format((count_at_1.count(0)/num_queries)))\n",
    "print('Perc. of 3: {}'.format((count_at_1.count(3)/num_queries)))"
   ]
  },
  {
   "cell_type": "code",
   "execution_count": 27,
   "id": "brown-spanish",
   "metadata": {},
   "outputs": [
    {
     "name": "stdout",
     "output_type": "stream",
     "text": [
      "Size before filtering of Rule-3: (279, 11)\n",
      "Size after filtering of Rule-3: (219, 11)\n"
     ]
    }
   ],
   "source": [
    "# Rule-3: Filter queries where the \"goldstandard GUI\" (index=0) has a relevance of zero\n",
    "APPLY_FILTER_RULE_3 = True\n",
    "if APPLY_FILTER_RULE_3:\n",
    "    print('Size before filtering of Rule-3: {}'.format(gs_batch.shape))\n",
    "    gs_batch = gs_batch.loc[gs_batch['count@1'].isin([1,2])]\n",
    "    print('Size after filtering of Rule-3: {}'.format(gs_batch.shape))"
   ]
  },
  {
   "cell_type": "markdown",
   "id": "baking-imperial",
   "metadata": {},
   "source": [
    "### 3.2. Filter GUIs with High Annotator Perplexity"
   ]
  },
  {
   "cell_type": "code",
   "execution_count": 29,
   "id": "terminal-columbus",
   "metadata": {},
   "outputs": [],
   "source": [
    "def filter_anno_1(elem):\n",
    "    # Filter only the ties\n",
    "    if (elem[0]==1 and elem[1]==1 and elem[2]==1):\n",
    "        return True\n",
    "    return False\n",
    "\n",
    "def filter_anno_2(elem):\n",
    "    # Filter the ties and the both cases where the majority vote and the remaining vote are in the extremes\n",
    "    if (elem[0]==1 and elem[1]==1 and elem[2]==1):\n",
    "        return True\n",
    "    if (elem[0] == 2 and elem[2] == 1) or (elem[0] == 1 and elem[2] == 2):\n",
    "        return True\n",
    "    return False\n",
    "\n",
    "def filter_anno_3(elem):\n",
    "    # Filter the ties and the case where the majority vote for relevance 0 and the remaining vote are in the extremes\n",
    "    if (elem[0]==1 and elem[1]==1 and elem[2]==1):\n",
    "        return True\n",
    "    if (elem[0] == 2 and elem[2] == 1):\n",
    "        return True\n",
    "    return False"
   ]
  },
  {
   "cell_type": "code",
   "execution_count": null,
   "id": "loving-praise",
   "metadata": {},
   "outputs": [],
   "source": [
    "gs_batch['filter_indexes'] = gs_batch.apply(lambda row: ([index for index, elem in enumerate(row['occurances']) if filter_anno_2(elem)]), axis=1)"
   ]
  },
  {
   "cell_type": "code",
   "execution_count": 32,
   "id": "sensitive-lesbian",
   "metadata": {},
   "outputs": [],
   "source": [
    "def filter_data(data, filter_indexes):\n",
    "    return [elem for index, elem in enumerate(data) if index not in filter_indexes]"
   ]
  },
  {
   "cell_type": "code",
   "execution_count": null,
   "id": "african-theory",
   "metadata": {},
   "outputs": [],
   "source": [
    "gs_batch['annotations_list'] = gs_batch.apply(lambda row: (filter_data(row['annotations_list'], row['filter_indexes'])), axis=1)\n",
    "gs_batch['gui_indexes_list'] = gs_batch.apply(lambda row: (filter_data(row['gui_indexes_list'], row['filter_indexes'])), axis=1)\n",
    "gs_batch['relevance'] = gs_batch.apply(lambda row: (filter_data(row['relevance'], row['filter_indexes'])), axis=1)\n",
    "gs_batch['occurances'] = gs_batch.apply(lambda row: (filter_data(row['occurances'], row['filter_indexes'])), axis=1)"
   ]
  },
  {
   "cell_type": "markdown",
   "id": "particular-health",
   "metadata": {},
   "source": [
    "### 3.3. Filter GUIs to Top-K List"
   ]
  },
  {
   "cell_type": "code",
   "execution_count": 39,
   "id": "powerful-quebec",
   "metadata": {},
   "outputs": [],
   "source": [
    "def merge_lists(list1, list2):\n",
    "    import itertools\n",
    "    return [x for x in itertools.chain.from_iterable(itertools.zip_longest(list1,list2)) if x]"
   ]
  },
  {
   "cell_type": "code",
   "execution_count": 40,
   "id": "silent-population",
   "metadata": {},
   "outputs": [],
   "source": [
    "import random\n",
    "import math\n",
    "\n",
    "def filter_indexes_2(k, n_0, n_1, n_2, relevance):\n",
    "    # Count indexes per relevance score\n",
    "    rels_in_0 = []\n",
    "    rels_in_1 = []\n",
    "    rels_in_2 = []\n",
    "    for index, rel in enumerate(relevance):\n",
    "        if rel == 0: rels_in_0.append(index)\n",
    "        elif rel == 1: rels_in_1.append(index)\n",
    "        elif rel == 2: rels_in_2.append(index)\n",
    "    # Shuffle the three relevance index lists\n",
    "    random.Random(543).shuffle(rels_in_0)\n",
    "    random.Random(543).shuffle(rels_in_1)\n",
    "    random.Random(543).shuffle(rels_in_2)\n",
    "    results = []\n",
    "    remains = []\n",
    "    # Extract samples from the three lists\n",
    "    sample_0 = rels_in_0[:min(n_0, len(rels_in_0))]\n",
    "    remain_0 = rels_in_0[min(n_0, len(rels_in_0)):]\n",
    "    results.extend(sample_0)\n",
    "    sample_1 = rels_in_1[:min(n_1, len(rels_in_1))]\n",
    "    remain_1 = rels_in_1[min(n_1, len(rels_in_1)):]\n",
    "    results.extend(sample_1)\n",
    "    sample_2 = rels_in_2[:min(n_2, len(rels_in_2))]\n",
    "    remain_2 = rels_in_2[min(n_2, len(rels_in_2)):]\n",
    "    results.extend(sample_2)\n",
    "    if len(results) == k:\n",
    "        return results\n",
    "    merged_remains = merge_lists(remain_1, remain_2)\n",
    "    while merged_remains and len(results) < k:\n",
    "        item = merged_remains.pop(0)\n",
    "        results.append(item)\n",
    "    if len(results) == k:\n",
    "        return results\n",
    "    else:\n",
    "        return results + remain_0[:(k-len(results))]"
   ]
  },
  {
   "cell_type": "code",
   "execution_count": 41,
   "id": "ignored-short",
   "metadata": {},
   "outputs": [],
   "source": [
    "def filter_data_2(data, filter_indexes):\n",
    "    return [elem for index, elem in enumerate(data) if index in filter_indexes]"
   ]
  },
  {
   "cell_type": "code",
   "execution_count": null,
   "id": "detected-greece",
   "metadata": {},
   "outputs": [],
   "source": [
    "# The number of GUIs we want to retain per query in the final gold standard\n",
    "SIZE_K = 20\n",
    "# The number of GUIs marked as 0 we want to retain per query in the final gold standard\n",
    "SIZE_0 = 14 \n",
    "# The number of GUIs marked as 1 we want to retain per query in the final gold standard\n",
    "SIZE_1 = 3 \n",
    "# The number of GUIs marked as 2 we want to retain per query in the final gold standard\n",
    "SIZE_2 = 3 \n",
    "# The method we want to use, either simple cutoff at K or sampling method\n",
    "SIMPLE_CUTOFF = False\n",
    "\n",
    "if SIMPLE_CUTOFF:\n",
    "    gs_batch['annotations_list'] = gs_batch.apply(lambda row: row['annotations_list'][:SIZE_K], axis=1)\n",
    "    gs_batch['gui_indexes_list'] = gs_batch.apply(lambda row: row['gui_indexes_list'][:SIZE_K], axis=1)\n",
    "    gs_batch['relevance'] = gs_batch.apply(lambda row: row['relevance'][:SIZE_K], axis=1)\n",
    "    gs_batch['occurances'] = gs_batch.apply(lambda row: row['occurances'][:SIZE_K], axis=1)\n",
    "else:\n",
    "    gs_batch['filter_indexes_2'] = gs_batch.apply(lambda row: filter_indexes_2(SIZE_K, SIZE_0, SIZE_1, SIZE_2, row['relevance']), axis=1)\n",
    "    gs_batch['annotations_list'] = gs_batch.apply(lambda row: (filter_data_2(row['annotations_list'], row['filter_indexes_2'])), axis=1)\n",
    "    gs_batch['gui_indexes_list'] = gs_batch.apply(lambda row: (filter_data_2(row['gui_indexes_list'], row['filter_indexes_2'])), axis=1)\n",
    "    gs_batch['relevance'] = gs_batch.apply(lambda row: (filter_data_2(row['relevance'], row['filter_indexes_2'])), axis=1)\n",
    "    gs_batch['occurances'] = gs_batch.apply(lambda row: (filter_data_2(row['occurances'], row['filter_indexes_2'])), axis=1)"
   ]
  },
  {
   "cell_type": "code",
   "execution_count": null,
   "id": "greek-juice",
   "metadata": {},
   "outputs": [],
   "source": [
    "gs_batch[\"count_0\"] = gs_batch.apply(lambda row: row['relevance'].count(0), axis=1)\n",
    "gs_batch[\"count_1\"] = gs_batch.apply(lambda row: row['relevance'].count(1), axis=1)\n",
    "gs_batch[\"count_2\"] = gs_batch.apply(lambda row: row['relevance'].count(2), axis=1)\n",
    "gs_batch[\"count_3\"] = gs_batch.apply(lambda row: row['relevance'].count(3), axis=1)"
   ]
  },
  {
   "cell_type": "code",
   "execution_count": 46,
   "id": "possible-chemical",
   "metadata": {},
   "outputs": [
    {
     "data": {
      "text/plain": [
       "<AxesSubplot:ylabel='Frequency'>"
      ]
     },
     "execution_count": 46,
     "metadata": {},
     "output_type": "execute_result"
    },
    {
     "data": {
      "image/png": "[encoded data removed]",
      "text/plain": [
       "<Figure size 432x288 with 1 Axes>"
      ]
     },
     "metadata": {},
     "output_type": "display_data"
    }
   ],
   "source": [
    "gs_batch['count_0'].plot.hist(bins=30)\n",
    "gs_batch['count_1'].plot.hist(bins=30, alpha=0.5)\n",
    "gs_batch['count_2'].plot.hist(bins=30, alpha=0.7)"
   ]
  },
  {
   "cell_type": "code",
   "execution_count": 47,
   "id": "severe-canal",
   "metadata": {},
   "outputs": [
    {
     "name": "stdout",
     "output_type": "stream",
     "text": [
      "Mean num. of 0: 10.10958904109589\n",
      "Mean num. of 1: 4.748858447488584\n",
      "Mean num. of 2: 4.465753424657534\n",
      "Mean num. of 3: 0.0\n"
     ]
    }
   ],
   "source": [
    "print(\"Mean num. of 0: {}\".format(np.mean(gs_batch['count_0'].values.tolist())))\n",
    "print(\"Mean num. of 1: {}\".format(np.mean(gs_batch['count_1'].values.tolist())))\n",
    "print(\"Mean num. of 2: {}\".format(np.mean(gs_batch['count_2'].values.tolist())))\n",
    "print(\"Mean num. of 3: {}\".format(np.mean(gs_batch['count_3'].values.tolist())))"
   ]
  },
  {
   "cell_type": "markdown",
   "id": "blocked-ceremony",
   "metadata": {},
   "source": [
    "### 3.4. Filter Queries Final"
   ]
  },
  {
   "cell_type": "code",
   "execution_count": 49,
   "id": "armed-marking",
   "metadata": {},
   "outputs": [
    {
     "name": "stdout",
     "output_type": "stream",
     "text": [
      "Size before filtering of Rule-1: (219, 13)\n",
      "Size after filtering of Rule-1: (179, 13)\n"
     ]
    }
   ],
   "source": [
    "# Rule-0: Filter queries which do not have at least k GUIs left\n",
    "print('Size before filtering of Rule-1: {}'.format(gs_batch.shape))\n",
    "gs_batch = gs_batch.loc[np.array(list(map(len, gs_batch['relevance'].values))) >= 20]\n",
    "print('Size after filtering of Rule-1: {}'.format(gs_batch.shape))"
   ]
  },
  {
   "cell_type": "code",
   "execution_count": 50,
   "id": "designed-transmission",
   "metadata": {},
   "outputs": [
    {
     "name": "stdout",
     "output_type": "stream",
     "text": [
      "Size before filtering of Rule-1: (179, 13)\n",
      "Size after filtering of Rule-1: (121, 13)\n",
      "Size before filtering of Rule-2: (121, 13)\n",
      "Size after filtering of Rule-2: (108, 13)\n"
     ]
    }
   ],
   "source": [
    "# Rule-1: Filter queries which do not have at least n GUIs with relevance 2 and\n",
    "print('Size before filtering of Rule-1: {}'.format(gs_batch.shape))\n",
    "N = 2\n",
    "M = 8\n",
    "gs_batch = gs_batch.loc[(gs_batch['count_2'] >= N) & (gs_batch['count_2'] <= M)]\n",
    "print('Size after filtering of Rule-1: {}'.format(gs_batch.shape))\n",
    "# Rule-2: Filter queries which do not have at least two GUIs with relevance 1\n",
    "print('Size before filtering of Rule-2: {}'.format(gs_batch.shape))\n",
    "N = 2\n",
    "M = 8\n",
    "gs_batch = gs_batch.loc[(gs_batch['count_1'] >= N) & (gs_batch['count_1'] <= M)]\n",
    "print('Size after filtering of Rule-2: {}'.format(gs_batch.shape))"
   ]
  },
  {
   "cell_type": "code",
   "execution_count": 52,
   "id": "curious-wells",
   "metadata": {},
   "outputs": [],
   "source": [
    "# Take a random sample from the remaining 108 queries to reduce it to 100\n",
    "SIZE_GOLDSTANDARD = 100\n",
    "RANDOM_STATE = 476\n",
    "gs_final = gs_batch.sample(n=SIZE_GOLDSTANDARD, random_state=RANDOM_STATE)"
   ]
  },
  {
   "cell_type": "code",
   "execution_count": 54,
   "id": "dynamic-score",
   "metadata": {},
   "outputs": [],
   "source": [
    "gs_final_minified = gs_final[['Input.query', 'gui_indexes_list', 'relevance']]\n",
    "gs_final_minified = gs_final_minified.rename(columns={\"Input.query\": \"query\", 'gui_indexes_list':'gui_indexes'})"
   ]
  },
  {
   "cell_type": "markdown",
   "id": "loose-pharmacy",
   "metadata": {},
   "source": [
    "### 3.5. Goldstandard Metrics"
   ]
  },
  {
   "cell_type": "code",
   "execution_count": 56,
   "id": "russian-orientation",
   "metadata": {},
   "outputs": [
    {
     "data": {
      "text/plain": [
       "(100, 13)"
      ]
     },
     "execution_count": 56,
     "metadata": {},
     "output_type": "execute_result"
    }
   ],
   "source": [
    "gs_final.shape"
   ]
  },
  {
   "cell_type": "code",
   "execution_count": 58,
   "id": "framed-stick",
   "metadata": {},
   "outputs": [
    {
     "name": "stdout",
     "output_type": "stream",
     "text": [
      "Mean num. of 0: 12.14\n",
      "Mean num. of 1: 4.15\n",
      "Mean num. of 2: 3.71\n"
     ]
    }
   ],
   "source": [
    "print(\"Mean num. of 0: {}\".format(np.mean(gs_final['count_0'].values.tolist())))\n",
    "print(\"Mean num. of 1: {}\".format(np.mean(gs_final['count_1'].values.tolist())))\n",
    "print(\"Mean num. of 2: {}\".format(np.mean(gs_final['count_2'].values.tolist())))"
   ]
  },
  {
   "cell_type": "code",
   "execution_count": null,
   "id": "therapeutic-premium",
   "metadata": {},
   "outputs": [],
   "source": [
    "all_annotation_counts = []\n",
    "for row in gs_final[[\"occurances\"]].iterrows():\n",
    "    all_annotation_counts.extend([elem for index, elem in enumerate(row[1].values[0])])\n",
    "print(all_annotation_counts)"
   ]
  },
  {
   "cell_type": "code",
   "execution_count": 60,
   "id": "aerial-lafayette",
   "metadata": {},
   "outputs": [
    {
     "name": "stdout",
     "output_type": "stream",
     "text": [
      "Number of examples: 2000\n"
     ]
    },
    {
     "data": {
      "text/plain": [
       "0.667456393220178"
      ]
     },
     "execution_count": 60,
     "metadata": {},
     "output_type": "execute_result"
    }
   ],
   "source": [
    "import krippendorff\n",
    "\n",
    "print(\"Number of examples: {}\".format(len(all_annotation_counts)))\n",
    "krippendorff.alpha(value_counts=np.array(all_annotation_counts), level_of_measurement=\"ordinal\")"
   ]
  },
  {
   "cell_type": "markdown",
   "id": "obvious-interest",
   "metadata": {},
   "source": [
    "### 3.6. Save Goldstandard"
   ]
  },
  {
   "cell_type": "code",
   "execution_count": 61,
   "id": "crazy-referral",
   "metadata": {},
   "outputs": [],
   "source": [
    "abs_path_save = '../data/gui_ranking/goldstandard/'\n",
    "gs_final_minified.to_csv(abs_path_save+'goldstandard.csv', index=False)"
   ]
  },
  {
   "cell_type": "markdown",
   "id": "egyptian-litigation",
   "metadata": {},
   "source": [
    "## 4. Create Training Data"
   ]
  },
  {
   "cell_type": "code",
   "execution_count": 62,
   "id": "satisfied-brake",
   "metadata": {},
   "outputs": [
    {
     "data": {
      "text/plain": [
       "(450, 6)"
      ]
     },
     "execution_count": 62,
     "metadata": {},
     "output_type": "execute_result"
    }
   ],
   "source": [
    "goldstandard_batch.shape"
   ]
  },
  {
   "cell_type": "code",
   "execution_count": 65,
   "id": "solar-homework",
   "metadata": {},
   "outputs": [
    {
     "data": {
      "text/plain": [
       "(100, 13)"
      ]
     },
     "execution_count": 65,
     "metadata": {},
     "output_type": "execute_result"
    }
   ],
   "source": [
    "gs_final.shape"
   ]
  },
  {
   "cell_type": "code",
   "execution_count": 66,
   "id": "eleven-russell",
   "metadata": {},
   "outputs": [],
   "source": [
    "goldstandard_queries = [elem[0] for elem in gs_final[['Input.query']].values.tolist()]"
   ]
  },
  {
   "cell_type": "code",
   "execution_count": 67,
   "id": "increased-pitch",
   "metadata": {},
   "outputs": [],
   "source": [
    "train = goldstandard_batch.copy()\n",
    "train = train[~train['Input.query'].isin(goldstandard_queries)]"
   ]
  },
  {
   "cell_type": "code",
   "execution_count": 70,
   "id": "corrected-revelation",
   "metadata": {},
   "outputs": [
    {
     "data": {
      "text/plain": [
       "(350, 6)"
      ]
     },
     "execution_count": 70,
     "metadata": {},
     "output_type": "execute_result"
    }
   ],
   "source": [
    "train.shape"
   ]
  },
  {
   "cell_type": "code",
   "execution_count": 71,
   "id": "external-questionnaire",
   "metadata": {},
   "outputs": [],
   "source": [
    "train_minified = train[['Input.query', 'gui_indexes_list', 'relevance']]\n",
    "train_minified = train_minified.rename(columns={\"Input.query\": \"query\", 'gui_indexes_list':'gui_indexes'})"
   ]
  },
  {
   "cell_type": "code",
   "execution_count": 72,
   "id": "stylish-thumbnail",
   "metadata": {},
   "outputs": [],
   "source": [
    "abs_path_save = '../data/gui_ranking/training/'\n",
    "train_minified.to_csv(abs_path_save+'train.csv', index=False)"
   ]
  },
  {
   "cell_type": "markdown",
   "id": "rural-ultimate",
   "metadata": {},
   "source": [
    "### 4.1 Generate Training Data Format for BERT-LTR Models"
   ]
  },
  {
   "cell_type": "code",
   "execution_count": 135,
   "id": "considerable-pakistan",
   "metadata": {},
   "outputs": [],
   "source": [
    "DATA_ACTIVITY_NAME = 'activity_name'\n",
    "DATA_TEXT_VISIBLE = 'text-visible'\n",
    "DATA_TEXT_INVISIBLE = 'text-invisible'\n",
    "DATA_RES_IDS_VISIBLE = 'res-ids-visible'\n",
    "DATA_RES_IDS_INVISIBLE = 'res-ids-invisible'\n",
    "DATA_ICON_IDS = 'icon-ids'\n",
    "DATA_ALL = 'text-all'"
   ]
  },
  {
   "cell_type": "code",
   "execution_count": 137,
   "id": "careful-ivory",
   "metadata": {},
   "outputs": [],
   "source": [
    "# Load the preprocessed GUI text documents\n",
    "abs_path = '../webapp/gui2rapp/staticfiles/resources/preproc_text/dataset_new_stem_F_stpw_T_filter_T.csv'\n",
    "dataset = pd.read_csv(abs_path)\n",
    "dataset.loc[:, DATA_ACTIVITY_NAME] = dataset.loc[:, DATA_ACTIVITY_NAME].apply(lambda x: literal_eval(x))\n",
    "dataset.loc[:, DATA_TEXT_VISIBLE] = dataset.loc[:, DATA_TEXT_VISIBLE].apply(lambda x: literal_eval(x))\n",
    "dataset.loc[:, DATA_TEXT_INVISIBLE] = dataset.loc[:, DATA_TEXT_INVISIBLE].apply(lambda x: literal_eval(x))\n",
    "dataset.loc[:, DATA_RES_IDS_VISIBLE] = dataset.loc[:, DATA_RES_IDS_VISIBLE].apply(lambda x: literal_eval(x))\n",
    "dataset.loc[:, DATA_RES_IDS_INVISIBLE] = dataset.loc[:, DATA_RES_IDS_INVISIBLE].apply(lambda x: literal_eval(x))\n",
    "dataset.loc[:, DATA_ICON_IDS] = dataset.loc[:, DATA_ICON_IDS].apply(lambda x: literal_eval(x))\n",
    "dataset.loc[:, DATA_ALL] = dataset.loc[:, DATA_ALL].apply(lambda x: literal_eval(x))"
   ]
  },
  {
   "cell_type": "code",
   "execution_count": 156,
   "id": "abstract-moldova",
   "metadata": {},
   "outputs": [],
   "source": [
    "MAX_TOKENS_DOC = 100\n",
    "train_queries = []\n",
    "for index, row in train.iterrows():\n",
    "    query = row['Input.query']\n",
    "    documents = []\n",
    "    for gui_index, relevance in zip(row['gui_indexes_list'], row['relevance']):\n",
    "        if relevance != 3:\n",
    "            text_all = dataset[dataset['filename'] == (str(gui_index) + '.json')]['text-all'].item()\n",
    "            doc_text = ' '.join(text_all[:MAX_TOKENS_DOC])\n",
    "            documents.append({'relevance': relevance, 'docText': doc_text})\n",
    "    train_queries.append({'queryText': query, 'documents': documents})"
   ]
  },
  {
   "cell_type": "code",
   "execution_count": 166,
   "id": "legendary-supervision",
   "metadata": {},
   "outputs": [],
   "source": [
    "ranking_problems_full = {'rankingProblems': train_queries}"
   ]
  },
  {
   "cell_type": "code",
   "execution_count": 167,
   "id": "saved-scenario",
   "metadata": {},
   "outputs": [],
   "source": [
    "import json\n",
    "\n",
    "abs_path = '../data/gui_ranking/bert_models/training_bert_format/gui_ranking_train_full.json'\n",
    "\n",
    "with open(abs_path, 'w') as f:\n",
    "    json.dump(ranking_problems_full, f, indent=4)"
   ]
  },
  {
   "cell_type": "markdown",
   "id": "simple-beast",
   "metadata": {},
   "source": [
    "# 5. Transform Gold Standard to BERT Prediction Format\n"
   ]
  },
  {
   "cell_type": "code",
   "execution_count": 226,
   "id": "younger-bhutan",
   "metadata": {},
   "outputs": [],
   "source": [
    "MAX_TOKENS_DOC = 100\n",
    "inverted_index_guis = {}\n",
    "gs_queries = []\n",
    "for index, row in gs_final_minified.iterrows():\n",
    "    query = row['query']\n",
    "    documents = []\n",
    "    for gui_index, relevance in zip(row['gui_indexes'], row['relevance']):\n",
    "        text_all = dataset[dataset['filename'] == (str(gui_index) + '.json')]['text-all'].item()\n",
    "        doc_text = ' '.join(text_all[:MAX_TOKENS_DOC])\n",
    "        if inverted_index_guis.get(doc_text):\n",
    "            if gui_index not in inverted_index_guis[doc_text]:\n",
    "                inverted_index_guis[doc_text].append(gui_index)\n",
    "        else:\n",
    "            inverted_index_guis[doc_text] = [gui_index]\n",
    "        documents.append({'relevance': relevance, 'docText': doc_text})\n",
    "    gs_queries.append({'queryText': query, 'documents': documents})\n",
    "ranking_problems_gs = {'rankingProblems': gs_queries}"
   ]
  },
  {
   "cell_type": "code",
   "execution_count": 181,
   "id": "fitted-negotiation",
   "metadata": {},
   "outputs": [],
   "source": [
    "import json\n",
    "\n",
    "abs_path = '../data/gui_ranking/bert_models/goldstandard_bert_format/gui_ranking_eval_goldstandard.json'\n",
    "\n",
    "with open(abs_path, 'w') as f:\n",
    "    json.dump(ranking_problems_gs, f, indent=4)"
   ]
  },
  {
   "cell_type": "markdown",
   "id": "beginning-sense",
   "metadata": {},
   "source": [
    "# 6. Transform BERT Predictions to GUI Ordering Format"
   ]
  },
  {
   "cell_type": "code",
   "execution_count": 286,
   "id": "substantial-collection",
   "metadata": {},
   "outputs": [],
   "source": [
    "abs_path = '../data/gui_ranking/bert_models/gui_ranking_goldstandard_results.json'\n",
    "\n",
    "with open(abs_path) as jsonfile:\n",
    "    bert_predictions = json.load(jsonfile)"
   ]
  },
  {
   "cell_type": "code",
   "execution_count": 289,
   "id": "fifth-lafayette",
   "metadata": {},
   "outputs": [],
   "source": [
    "dataframe_predictions = pd.DataFrame()\n",
    "for query in bert_predictions['rankingProblemsOutput']:\n",
    "    query_text = query['queryText']\n",
    "    gui_ranking = []\n",
    "    for doc in query['documents']:\n",
    "        indexes = inverted_index_guis[doc['docText']]\n",
    "        gs_index_list = gs_final_minified[gs_final_minified['query'] == query_text]['gui_indexes'].values.tolist()[0]\n",
    "        for index in indexes:\n",
    "            if index in gs_index_list and index not in gui_ranking:\n",
    "                gui_ranking.append(index)\n",
    "                break\n",
    "    if len(gui_ranking) != 20:\n",
    "        print(query_text)\n",
    "    result = {'query': query_text, 'gui_ranking': gui_ranking}\n",
    "    dataframe_predictions = dataframe_predictions.append(result, ignore_index=True)"
   ]
  },
  {
   "cell_type": "code",
   "execution_count": 291,
   "id": "copyrighted-burton",
   "metadata": {},
   "outputs": [],
   "source": [
    "abs_path = '../data/gui_ranking/bert_models/predictions.csv'\n",
    "dataframe_predictions.to_csv(abs_path, index=False)"
   ]
  }
 ],
 "metadata": {
  "kernelspec": {
   "display_name": "Python 3",
   "language": "python",
   "name": "python3"
  },
  "language_info": {
   "codemirror_mode": {
    "name": "ipython",
    "version": 3
   },
   "file_extension": ".py",
   "mimetype": "text/x-python",
   "name": "python",
   "nbconvert_exporter": "python",
   "pygments_lexer": "ipython3",
   "version": "3.8.5"
  }
 },
 "nbformat": 4,
 "nbformat_minor": 5
}
