{
 "cells": [
  {
   "cell_type": "markdown",
   "id": "integral-raleigh",
   "metadata": {},
   "source": [
    "# 0. AQE Per-Query Analysis\n",
    "In the following, we provide a more detailed analysis of our Automatic Query Expansion evaluation results as a supplement to our analysis provided in the paper. In our paper, we showed that AQE methods, in particular the text-segment-wise PRF (s) method, can outperform the ranking performance of the base ranker BM25. However, since AQE is based on the extraction of expansion terms using the Kullback-Leibler Divergence score on the initial GUI ranking results of the base ranker BM25, the expansion terms may not be suitable enough to obtain a better ranking for queries where the initial ranking results of the base BM25 ranker are to inconsistent. In this analysis, we provide a per-query analysis i.e. we investigate e.g. how many cases can be actually improved and which queries may suffer performance when AQE is used based on our NL-based GUI retrieval gold standard."
   ]
  },
  {
   "cell_type": "markdown",
   "id": "transparent-collins",
   "metadata": {},
   "source": [
    "# 1. Load Datasets\n",
    "Here we load the evaluation results for each of the method. Each method has one field for each metric used in our evaluation. Each metric field contains the 100 metric values for the 100 queries in our gold standard."
   ]
  },
  {
   "cell_type": "code",
   "execution_count": 1,
   "id": "patient-europe",
   "metadata": {},
   "outputs": [],
   "source": [
    "import json\n",
    "import pandas as pd\n",
    "from ast import literal_eval\n",
    "import numpy as np\n",
    "import seaborn as sns\n",
    "sns.set_theme()\n",
    "\n",
    "pd.set_option('display.max_rows', 500)\n",
    "pd.set_option('display.max_columns', 500)\n",
    "pd.set_option('display.width', 5000)\n",
    "pd.set_option('display.max_colwidth', 5000)\n",
    "\n",
    "abs_path = '../data/gui_ranking/goldstandard/'\n",
    "\n",
    "goldstandard = pd.read_csv(abs_path+\"goldstandard.csv\")\n",
    "goldstandard['gui_indexes'] = goldstandard['gui_indexes'].apply(literal_eval)\n",
    "goldstandard['relevance'] = goldstandard['relevance'].apply(literal_eval)\n",
    "\n",
    "abs_path = '../data/gui_ranking/aqe/dataset/'\n",
    "\n",
    "with open(abs_path +  'aqe_results_for_per_query_analysis.json', 'r', encoding='utf8') as file:\n",
    "    ranker_results = json.load(file)"
   ]
  },
  {
   "cell_type": "markdown",
   "id": "recognized-stuff",
   "metadata": {},
   "source": [
    "# 2. Analysis of Improvements for Different Metrics\n",
    "In the following, we compared the per-query metric values over the 100 queries of the gold standard and computed the number of cases where AQE (in particular the text-segement-wise PRF (s) method) improved the performance or was at least as good as the base ranker performance. Afterwards we compute the average metric improvement on these cases and compute the same for the cases where AQE did not improve the metric.\n",
    "\n",
    "First, the Average Precision (AveP) is improved or at least as good as the base ranker in 57% on the 100 queries with an average improvement of 0.13. Second, the Mean Reciprocal Rank (MRR) is improved or at least as good as the base ranker in 69% on the 100 queries with an average improvement of 0.199. Third, the Precision at 5 (P@5) is improved or at least as good as the base ranker in 77% on the 100 queries with an average improvement of 0.07. Fourth, the HITS at 5 (HITS@5) is improved or at least as good as the base ranker in 92% on the 100 queries with an average improvement of 0.097. Fifth, the Normalized Discounted Cumulative Gain at 5 (NDCG@5) is improved or at least as good as the base ranker in 62% on the 100 queries with an average improvement of 0.15. Thus, 71.4% of the 100 queries from the goldstandard could be improved or have a performance at least as good as the base ranker over all the considered metrics on average."
   ]
  },
  {
   "cell_type": "markdown",
   "id": "engaged-maple",
   "metadata": {},
   "source": [
    "## 2.1 AveP (Average Precision)"
   ]
  },
  {
   "cell_type": "code",
   "execution_count": 2,
   "id": "copyrighted-discovery",
   "metadata": {},
   "outputs": [],
   "source": [
    "results_1 = np.array(ranker_results['bm25okapi']['AveP'])\n",
    "results_2 = np.array(ranker_results['prf_kld_cat_bm25']['AveP'])\n",
    "differences = results_2 - results_1"
   ]
  },
  {
   "cell_type": "code",
   "execution_count": 3,
   "id": "liberal-bride",
   "metadata": {},
   "outputs": [],
   "source": [
    "positive_vals = []\n",
    "negative_vals = []\n",
    "for diff in differences:\n",
    "    if diff >= 0:\n",
    "        positive_vals.append(diff)\n",
    "    else:\n",
    "        negative_vals.append(diff)"
   ]
  },
  {
   "cell_type": "code",
   "execution_count": 4,
   "id": "clean-values",
   "metadata": {},
   "outputs": [
    {
     "data": {
      "text/html": [
       "<div>\n",
       "<style scoped>\n",
       "    .dataframe tbody tr th:only-of-type {\n",
       "        vertical-align: middle;\n",
       "    }\n",
       "\n",
       "    .dataframe tbody tr th {\n",
       "        vertical-align: top;\n",
       "    }\n",
       "\n",
       "    .dataframe thead th {\n",
       "        text-align: right;\n",
       "    }\n",
       "</style>\n",
       "<table border=\"1\" class=\"dataframe\">\n",
       "  <thead>\n",
       "    <tr style=\"text-align: right;\">\n",
       "      <th></th>\n",
       "      <th>0</th>\n",
       "    </tr>\n",
       "  </thead>\n",
       "  <tbody>\n",
       "    <tr>\n",
       "      <th>count</th>\n",
       "      <td>57.000000</td>\n",
       "    </tr>\n",
       "    <tr>\n",
       "      <th>mean</th>\n",
       "      <td>0.137215</td>\n",
       "    </tr>\n",
       "    <tr>\n",
       "      <th>std</th>\n",
       "      <td>0.147800</td>\n",
       "    </tr>\n",
       "    <tr>\n",
       "      <th>min</th>\n",
       "      <td>0.000000</td>\n",
       "    </tr>\n",
       "    <tr>\n",
       "      <th>25%</th>\n",
       "      <td>0.026667</td>\n",
       "    </tr>\n",
       "    <tr>\n",
       "      <th>50%</th>\n",
       "      <td>0.064583</td>\n",
       "    </tr>\n",
       "    <tr>\n",
       "      <th>75%</th>\n",
       "      <td>0.235607</td>\n",
       "    </tr>\n",
       "    <tr>\n",
       "      <th>max</th>\n",
       "      <td>0.506746</td>\n",
       "    </tr>\n",
       "  </tbody>\n",
       "</table>\n",
       "</div>"
      ],
      "text/plain": [
       "               0\n",
       "count  57.000000\n",
       "mean    0.137215\n",
       "std     0.147800\n",
       "min     0.000000\n",
       "25%     0.026667\n",
       "50%     0.064583\n",
       "75%     0.235607\n",
       "max     0.506746"
      ]
     },
     "execution_count": 4,
     "metadata": {},
     "output_type": "execute_result"
    }
   ],
   "source": [
    "positive_vals_describe = pd.DataFrame(positive_vals)\n",
    "positive_vals_describe.describe()"
   ]
  },
  {
   "cell_type": "code",
   "execution_count": 5,
   "id": "duplicate-feeling",
   "metadata": {},
   "outputs": [
    {
     "data": {
      "text/html": [
       "<div>\n",
       "<style scoped>\n",
       "    .dataframe tbody tr th:only-of-type {\n",
       "        vertical-align: middle;\n",
       "    }\n",
       "\n",
       "    .dataframe tbody tr th {\n",
       "        vertical-align: top;\n",
       "    }\n",
       "\n",
       "    .dataframe thead th {\n",
       "        text-align: right;\n",
       "    }\n",
       "</style>\n",
       "<table border=\"1\" class=\"dataframe\">\n",
       "  <thead>\n",
       "    <tr style=\"text-align: right;\">\n",
       "      <th></th>\n",
       "      <th>0</th>\n",
       "    </tr>\n",
       "  </thead>\n",
       "  <tbody>\n",
       "    <tr>\n",
       "      <th>count</th>\n",
       "      <td>43.000000</td>\n",
       "    </tr>\n",
       "    <tr>\n",
       "      <th>mean</th>\n",
       "      <td>-0.148715</td>\n",
       "    </tr>\n",
       "    <tr>\n",
       "      <th>std</th>\n",
       "      <td>0.169749</td>\n",
       "    </tr>\n",
       "    <tr>\n",
       "      <th>min</th>\n",
       "      <td>-0.616667</td>\n",
       "    </tr>\n",
       "    <tr>\n",
       "      <th>25%</th>\n",
       "      <td>-0.274306</td>\n",
       "    </tr>\n",
       "    <tr>\n",
       "      <th>50%</th>\n",
       "      <td>-0.092410</td>\n",
       "    </tr>\n",
       "    <tr>\n",
       "      <th>75%</th>\n",
       "      <td>-0.016438</td>\n",
       "    </tr>\n",
       "    <tr>\n",
       "      <th>max</th>\n",
       "      <td>-0.002778</td>\n",
       "    </tr>\n",
       "  </tbody>\n",
       "</table>\n",
       "</div>"
      ],
      "text/plain": [
       "               0\n",
       "count  43.000000\n",
       "mean   -0.148715\n",
       "std     0.169749\n",
       "min    -0.616667\n",
       "25%    -0.274306\n",
       "50%    -0.092410\n",
       "75%    -0.016438\n",
       "max    -0.002778"
      ]
     },
     "execution_count": 5,
     "metadata": {},
     "output_type": "execute_result"
    }
   ],
   "source": [
    "negative_vals_describe = pd.DataFrame(negative_vals)\n",
    "negative_vals_describe.describe()"
   ]
  },
  {
   "cell_type": "markdown",
   "id": "correct-terror",
   "metadata": {},
   "source": [
    "## 2.2 MRR (Mean Reciprocal Rank)"
   ]
  },
  {
   "cell_type": "code",
   "execution_count": 6,
   "id": "secondary-bargain",
   "metadata": {},
   "outputs": [],
   "source": [
    "results_1 = np.array(ranker_results['bm25okapi']['RecipRank'])\n",
    "results_2 = np.array(ranker_results['prf_kld_cat_bm25']['RecipRank'])\n",
    "differences = results_2 - results_1"
   ]
  },
  {
   "cell_type": "code",
   "execution_count": 7,
   "id": "southwest-biotechnology",
   "metadata": {},
   "outputs": [],
   "source": [
    "positive_vals = []\n",
    "negative_vals = []\n",
    "for diff in differences:\n",
    "    if diff >= 0:\n",
    "        positive_vals.append(diff)\n",
    "    else:\n",
    "        negative_vals.append(diff)"
   ]
  },
  {
   "cell_type": "code",
   "execution_count": 8,
   "id": "quiet-handbook",
   "metadata": {},
   "outputs": [
    {
     "data": {
      "text/html": [
       "<div>\n",
       "<style scoped>\n",
       "    .dataframe tbody tr th:only-of-type {\n",
       "        vertical-align: middle;\n",
       "    }\n",
       "\n",
       "    .dataframe tbody tr th {\n",
       "        vertical-align: top;\n",
       "    }\n",
       "\n",
       "    .dataframe thead th {\n",
       "        text-align: right;\n",
       "    }\n",
       "</style>\n",
       "<table border=\"1\" class=\"dataframe\">\n",
       "  <thead>\n",
       "    <tr style=\"text-align: right;\">\n",
       "      <th></th>\n",
       "      <th>0</th>\n",
       "    </tr>\n",
       "  </thead>\n",
       "  <tbody>\n",
       "    <tr>\n",
       "      <th>count</th>\n",
       "      <td>69.000000</td>\n",
       "    </tr>\n",
       "    <tr>\n",
       "      <th>mean</th>\n",
       "      <td>0.199860</td>\n",
       "    </tr>\n",
       "    <tr>\n",
       "      <th>std</th>\n",
       "      <td>0.283674</td>\n",
       "    </tr>\n",
       "    <tr>\n",
       "      <th>min</th>\n",
       "      <td>0.000000</td>\n",
       "    </tr>\n",
       "    <tr>\n",
       "      <th>25%</th>\n",
       "      <td>0.000000</td>\n",
       "    </tr>\n",
       "    <tr>\n",
       "      <th>50%</th>\n",
       "      <td>0.017857</td>\n",
       "    </tr>\n",
       "    <tr>\n",
       "      <th>75%</th>\n",
       "      <td>0.500000</td>\n",
       "    </tr>\n",
       "    <tr>\n",
       "      <th>max</th>\n",
       "      <td>0.928571</td>\n",
       "    </tr>\n",
       "  </tbody>\n",
       "</table>\n",
       "</div>"
      ],
      "text/plain": [
       "               0\n",
       "count  69.000000\n",
       "mean    0.199860\n",
       "std     0.283674\n",
       "min     0.000000\n",
       "25%     0.000000\n",
       "50%     0.017857\n",
       "75%     0.500000\n",
       "max     0.928571"
      ]
     },
     "execution_count": 8,
     "metadata": {},
     "output_type": "execute_result"
    }
   ],
   "source": [
    "positive_vals_describe = pd.DataFrame(positive_vals)\n",
    "positive_vals_describe.describe()"
   ]
  },
  {
   "cell_type": "code",
   "execution_count": 9,
   "id": "reflected-criterion",
   "metadata": {},
   "outputs": [
    {
     "data": {
      "text/html": [
       "<div>\n",
       "<style scoped>\n",
       "    .dataframe tbody tr th:only-of-type {\n",
       "        vertical-align: middle;\n",
       "    }\n",
       "\n",
       "    .dataframe tbody tr th {\n",
       "        vertical-align: top;\n",
       "    }\n",
       "\n",
       "    .dataframe thead th {\n",
       "        text-align: right;\n",
       "    }\n",
       "</style>\n",
       "<table border=\"1\" class=\"dataframe\">\n",
       "  <thead>\n",
       "    <tr style=\"text-align: right;\">\n",
       "      <th></th>\n",
       "      <th>0</th>\n",
       "    </tr>\n",
       "  </thead>\n",
       "  <tbody>\n",
       "    <tr>\n",
       "      <th>count</th>\n",
       "      <td>31.000000</td>\n",
       "    </tr>\n",
       "    <tr>\n",
       "      <th>mean</th>\n",
       "      <td>-0.406418</td>\n",
       "    </tr>\n",
       "    <tr>\n",
       "      <th>std</th>\n",
       "      <td>0.317138</td>\n",
       "    </tr>\n",
       "    <tr>\n",
       "      <th>min</th>\n",
       "      <td>-0.875000</td>\n",
       "    </tr>\n",
       "    <tr>\n",
       "      <th>25%</th>\n",
       "      <td>-0.666667</td>\n",
       "    </tr>\n",
       "    <tr>\n",
       "      <th>50%</th>\n",
       "      <td>-0.500000</td>\n",
       "    </tr>\n",
       "    <tr>\n",
       "      <th>75%</th>\n",
       "      <td>-0.064665</td>\n",
       "    </tr>\n",
       "    <tr>\n",
       "      <th>max</th>\n",
       "      <td>-0.010256</td>\n",
       "    </tr>\n",
       "  </tbody>\n",
       "</table>\n",
       "</div>"
      ],
      "text/plain": [
       "               0\n",
       "count  31.000000\n",
       "mean   -0.406418\n",
       "std     0.317138\n",
       "min    -0.875000\n",
       "25%    -0.666667\n",
       "50%    -0.500000\n",
       "75%    -0.064665\n",
       "max    -0.010256"
      ]
     },
     "execution_count": 9,
     "metadata": {},
     "output_type": "execute_result"
    }
   ],
   "source": [
    "negative_vals_describe = pd.DataFrame(negative_vals)\n",
    "negative_vals_describe.describe()"
   ]
  },
  {
   "cell_type": "markdown",
   "id": "russian-drill",
   "metadata": {},
   "source": [
    "## 2.3 P@5 (Precision at 5)"
   ]
  },
  {
   "cell_type": "code",
   "execution_count": 10,
   "id": "automated-joshua",
   "metadata": {},
   "outputs": [],
   "source": [
    "results_1 = np.array(ranker_results['bm25okapi']['P@5'])\n",
    "results_2 = np.array(ranker_results['prf_kld_cat_bm25']['P@5'])\n",
    "differences = results_2 - results_1"
   ]
  },
  {
   "cell_type": "code",
   "execution_count": 11,
   "id": "direct-surgery",
   "metadata": {},
   "outputs": [],
   "source": [
    "positive_vals = []\n",
    "negative_vals = []\n",
    "for diff in differences:\n",
    "    if diff >= 0:\n",
    "        positive_vals.append(diff)\n",
    "    else:\n",
    "        negative_vals.append(diff)"
   ]
  },
  {
   "cell_type": "code",
   "execution_count": 12,
   "id": "stone-lawyer",
   "metadata": {},
   "outputs": [
    {
     "data": {
      "text/html": [
       "<div>\n",
       "<style scoped>\n",
       "    .dataframe tbody tr th:only-of-type {\n",
       "        vertical-align: middle;\n",
       "    }\n",
       "\n",
       "    .dataframe tbody tr th {\n",
       "        vertical-align: top;\n",
       "    }\n",
       "\n",
       "    .dataframe thead th {\n",
       "        text-align: right;\n",
       "    }\n",
       "</style>\n",
       "<table border=\"1\" class=\"dataframe\">\n",
       "  <thead>\n",
       "    <tr style=\"text-align: right;\">\n",
       "      <th></th>\n",
       "      <th>0</th>\n",
       "    </tr>\n",
       "  </thead>\n",
       "  <tbody>\n",
       "    <tr>\n",
       "      <th>count</th>\n",
       "      <td>77.000000</td>\n",
       "    </tr>\n",
       "    <tr>\n",
       "      <th>mean</th>\n",
       "      <td>0.077922</td>\n",
       "    </tr>\n",
       "    <tr>\n",
       "      <th>std</th>\n",
       "      <td>0.117679</td>\n",
       "    </tr>\n",
       "    <tr>\n",
       "      <th>min</th>\n",
       "      <td>0.000000</td>\n",
       "    </tr>\n",
       "    <tr>\n",
       "      <th>25%</th>\n",
       "      <td>0.000000</td>\n",
       "    </tr>\n",
       "    <tr>\n",
       "      <th>50%</th>\n",
       "      <td>0.000000</td>\n",
       "    </tr>\n",
       "    <tr>\n",
       "      <th>75%</th>\n",
       "      <td>0.200000</td>\n",
       "    </tr>\n",
       "    <tr>\n",
       "      <th>max</th>\n",
       "      <td>0.600000</td>\n",
       "    </tr>\n",
       "  </tbody>\n",
       "</table>\n",
       "</div>"
      ],
      "text/plain": [
       "               0\n",
       "count  77.000000\n",
       "mean    0.077922\n",
       "std     0.117679\n",
       "min     0.000000\n",
       "25%     0.000000\n",
       "50%     0.000000\n",
       "75%     0.200000\n",
       "max     0.600000"
      ]
     },
     "execution_count": 12,
     "metadata": {},
     "output_type": "execute_result"
    }
   ],
   "source": [
    "positive_vals_describe = pd.DataFrame(positive_vals)\n",
    "positive_vals_describe.describe()"
   ]
  },
  {
   "cell_type": "code",
   "execution_count": 13,
   "id": "protecting-offense",
   "metadata": {},
   "outputs": [
    {
     "data": {
      "text/html": [
       "<div>\n",
       "<style scoped>\n",
       "    .dataframe tbody tr th:only-of-type {\n",
       "        vertical-align: middle;\n",
       "    }\n",
       "\n",
       "    .dataframe tbody tr th {\n",
       "        vertical-align: top;\n",
       "    }\n",
       "\n",
       "    .dataframe thead th {\n",
       "        text-align: right;\n",
       "    }\n",
       "</style>\n",
       "<table border=\"1\" class=\"dataframe\">\n",
       "  <thead>\n",
       "    <tr style=\"text-align: right;\">\n",
       "      <th></th>\n",
       "      <th>0</th>\n",
       "    </tr>\n",
       "  </thead>\n",
       "  <tbody>\n",
       "    <tr>\n",
       "      <th>count</th>\n",
       "      <td>23.000000</td>\n",
       "    </tr>\n",
       "    <tr>\n",
       "      <th>mean</th>\n",
       "      <td>-0.243478</td>\n",
       "    </tr>\n",
       "    <tr>\n",
       "      <th>std</th>\n",
       "      <td>0.084348</td>\n",
       "    </tr>\n",
       "    <tr>\n",
       "      <th>min</th>\n",
       "      <td>-0.400000</td>\n",
       "    </tr>\n",
       "    <tr>\n",
       "      <th>25%</th>\n",
       "      <td>-0.200000</td>\n",
       "    </tr>\n",
       "    <tr>\n",
       "      <th>50%</th>\n",
       "      <td>-0.200000</td>\n",
       "    </tr>\n",
       "    <tr>\n",
       "      <th>75%</th>\n",
       "      <td>-0.200000</td>\n",
       "    </tr>\n",
       "    <tr>\n",
       "      <th>max</th>\n",
       "      <td>-0.200000</td>\n",
       "    </tr>\n",
       "  </tbody>\n",
       "</table>\n",
       "</div>"
      ],
      "text/plain": [
       "               0\n",
       "count  23.000000\n",
       "mean   -0.243478\n",
       "std     0.084348\n",
       "min    -0.400000\n",
       "25%    -0.200000\n",
       "50%    -0.200000\n",
       "75%    -0.200000\n",
       "max    -0.200000"
      ]
     },
     "execution_count": 13,
     "metadata": {},
     "output_type": "execute_result"
    }
   ],
   "source": [
    "negative_vals_describe = pd.DataFrame(negative_vals)\n",
    "negative_vals_describe.describe()"
   ]
  },
  {
   "cell_type": "markdown",
   "id": "together-montgomery",
   "metadata": {},
   "source": [
    "## 2.4 HITS@5"
   ]
  },
  {
   "cell_type": "code",
   "execution_count": 14,
   "id": "talented-sherman",
   "metadata": {},
   "outputs": [],
   "source": [
    "results_1 = np.array(ranker_results['bm25okapi']['HITS@5'])\n",
    "results_2 = np.array(ranker_results['prf_kld_cat_bm25']['HITS@5'])\n",
    "differences = results_2 - results_1"
   ]
  },
  {
   "cell_type": "code",
   "execution_count": 15,
   "id": "solved-gothic",
   "metadata": {},
   "outputs": [],
   "source": [
    "positive_vals = []\n",
    "negative_vals = []\n",
    "for diff in differences:\n",
    "    if diff >= 0:\n",
    "        positive_vals.append(diff)\n",
    "    else:\n",
    "        negative_vals.append(diff)"
   ]
  },
  {
   "cell_type": "code",
   "execution_count": 16,
   "id": "round-knowing",
   "metadata": {},
   "outputs": [
    {
     "data": {
      "text/html": [
       "<div>\n",
       "<style scoped>\n",
       "    .dataframe tbody tr th:only-of-type {\n",
       "        vertical-align: middle;\n",
       "    }\n",
       "\n",
       "    .dataframe tbody tr th {\n",
       "        vertical-align: top;\n",
       "    }\n",
       "\n",
       "    .dataframe thead th {\n",
       "        text-align: right;\n",
       "    }\n",
       "</style>\n",
       "<table border=\"1\" class=\"dataframe\">\n",
       "  <thead>\n",
       "    <tr style=\"text-align: right;\">\n",
       "      <th></th>\n",
       "      <th>0</th>\n",
       "    </tr>\n",
       "  </thead>\n",
       "  <tbody>\n",
       "    <tr>\n",
       "      <th>count</th>\n",
       "      <td>92.000000</td>\n",
       "    </tr>\n",
       "    <tr>\n",
       "      <th>mean</th>\n",
       "      <td>0.097826</td>\n",
       "    </tr>\n",
       "    <tr>\n",
       "      <th>std</th>\n",
       "      <td>0.298707</td>\n",
       "    </tr>\n",
       "    <tr>\n",
       "      <th>min</th>\n",
       "      <td>0.000000</td>\n",
       "    </tr>\n",
       "    <tr>\n",
       "      <th>25%</th>\n",
       "      <td>0.000000</td>\n",
       "    </tr>\n",
       "    <tr>\n",
       "      <th>50%</th>\n",
       "      <td>0.000000</td>\n",
       "    </tr>\n",
       "    <tr>\n",
       "      <th>75%</th>\n",
       "      <td>0.000000</td>\n",
       "    </tr>\n",
       "    <tr>\n",
       "      <th>max</th>\n",
       "      <td>1.000000</td>\n",
       "    </tr>\n",
       "  </tbody>\n",
       "</table>\n",
       "</div>"
      ],
      "text/plain": [
       "               0\n",
       "count  92.000000\n",
       "mean    0.097826\n",
       "std     0.298707\n",
       "min     0.000000\n",
       "25%     0.000000\n",
       "50%     0.000000\n",
       "75%     0.000000\n",
       "max     1.000000"
      ]
     },
     "execution_count": 16,
     "metadata": {},
     "output_type": "execute_result"
    }
   ],
   "source": [
    "positive_vals_describe = pd.DataFrame(positive_vals)\n",
    "positive_vals_describe.describe()"
   ]
  },
  {
   "cell_type": "code",
   "execution_count": 17,
   "id": "centered-ability",
   "metadata": {},
   "outputs": [
    {
     "data": {
      "text/html": [
       "<div>\n",
       "<style scoped>\n",
       "    .dataframe tbody tr th:only-of-type {\n",
       "        vertical-align: middle;\n",
       "    }\n",
       "\n",
       "    .dataframe tbody tr th {\n",
       "        vertical-align: top;\n",
       "    }\n",
       "\n",
       "    .dataframe thead th {\n",
       "        text-align: right;\n",
       "    }\n",
       "</style>\n",
       "<table border=\"1\" class=\"dataframe\">\n",
       "  <thead>\n",
       "    <tr style=\"text-align: right;\">\n",
       "      <th></th>\n",
       "      <th>0</th>\n",
       "    </tr>\n",
       "  </thead>\n",
       "  <tbody>\n",
       "    <tr>\n",
       "      <th>count</th>\n",
       "      <td>8.0</td>\n",
       "    </tr>\n",
       "    <tr>\n",
       "      <th>mean</th>\n",
       "      <td>-1.0</td>\n",
       "    </tr>\n",
       "    <tr>\n",
       "      <th>std</th>\n",
       "      <td>0.0</td>\n",
       "    </tr>\n",
       "    <tr>\n",
       "      <th>min</th>\n",
       "      <td>-1.0</td>\n",
       "    </tr>\n",
       "    <tr>\n",
       "      <th>25%</th>\n",
       "      <td>-1.0</td>\n",
       "    </tr>\n",
       "    <tr>\n",
       "      <th>50%</th>\n",
       "      <td>-1.0</td>\n",
       "    </tr>\n",
       "    <tr>\n",
       "      <th>75%</th>\n",
       "      <td>-1.0</td>\n",
       "    </tr>\n",
       "    <tr>\n",
       "      <th>max</th>\n",
       "      <td>-1.0</td>\n",
       "    </tr>\n",
       "  </tbody>\n",
       "</table>\n",
       "</div>"
      ],
      "text/plain": [
       "         0\n",
       "count  8.0\n",
       "mean  -1.0\n",
       "std    0.0\n",
       "min   -1.0\n",
       "25%   -1.0\n",
       "50%   -1.0\n",
       "75%   -1.0\n",
       "max   -1.0"
      ]
     },
     "execution_count": 17,
     "metadata": {},
     "output_type": "execute_result"
    }
   ],
   "source": [
    "negative_vals_describe = pd.DataFrame(negative_vals)\n",
    "negative_vals_describe.describe()"
   ]
  },
  {
   "cell_type": "markdown",
   "id": "raising-soviet",
   "metadata": {},
   "source": [
    "## 2.5 NDCG@5 (Normalized Discounted Cumulative Gain at 5)"
   ]
  },
  {
   "cell_type": "code",
   "execution_count": 18,
   "id": "unlimited-wells",
   "metadata": {},
   "outputs": [],
   "source": [
    "results_1 = np.array(ranker_results['bm25okapi']['NDCG@5'])\n",
    "results_2 = np.array(ranker_results['prf_kld_cat_bm25']['NDCG@5'])\n",
    "differences = results_2 - results_1"
   ]
  },
  {
   "cell_type": "code",
   "execution_count": 19,
   "id": "departmental-martial",
   "metadata": {},
   "outputs": [],
   "source": [
    "positive_vals = []\n",
    "negative_vals = []\n",
    "for diff in differences:\n",
    "    if diff >= 0:\n",
    "        positive_vals.append(diff)\n",
    "    else:\n",
    "        negative_vals.append(diff)"
   ]
  },
  {
   "cell_type": "code",
   "execution_count": 20,
   "id": "administrative-polish",
   "metadata": {},
   "outputs": [
    {
     "data": {
      "text/html": [
       "<div>\n",
       "<style scoped>\n",
       "    .dataframe tbody tr th:only-of-type {\n",
       "        vertical-align: middle;\n",
       "    }\n",
       "\n",
       "    .dataframe tbody tr th {\n",
       "        vertical-align: top;\n",
       "    }\n",
       "\n",
       "    .dataframe thead th {\n",
       "        text-align: right;\n",
       "    }\n",
       "</style>\n",
       "<table border=\"1\" class=\"dataframe\">\n",
       "  <thead>\n",
       "    <tr style=\"text-align: right;\">\n",
       "      <th></th>\n",
       "      <th>0</th>\n",
       "    </tr>\n",
       "  </thead>\n",
       "  <tbody>\n",
       "    <tr>\n",
       "      <th>count</th>\n",
       "      <td>62.000000</td>\n",
       "    </tr>\n",
       "    <tr>\n",
       "      <th>mean</th>\n",
       "      <td>0.155565</td>\n",
       "    </tr>\n",
       "    <tr>\n",
       "      <th>std</th>\n",
       "      <td>0.150701</td>\n",
       "    </tr>\n",
       "    <tr>\n",
       "      <th>min</th>\n",
       "      <td>0.000000</td>\n",
       "    </tr>\n",
       "    <tr>\n",
       "      <th>25%</th>\n",
       "      <td>0.049256</td>\n",
       "    </tr>\n",
       "    <tr>\n",
       "      <th>50%</th>\n",
       "      <td>0.100536</td>\n",
       "    </tr>\n",
       "    <tr>\n",
       "      <th>75%</th>\n",
       "      <td>0.220311</td>\n",
       "    </tr>\n",
       "    <tr>\n",
       "      <th>max</th>\n",
       "      <td>0.565197</td>\n",
       "    </tr>\n",
       "  </tbody>\n",
       "</table>\n",
       "</div>"
      ],
      "text/plain": [
       "               0\n",
       "count  62.000000\n",
       "mean    0.155565\n",
       "std     0.150701\n",
       "min     0.000000\n",
       "25%     0.049256\n",
       "50%     0.100536\n",
       "75%     0.220311\n",
       "max     0.565197"
      ]
     },
     "execution_count": 20,
     "metadata": {},
     "output_type": "execute_result"
    }
   ],
   "source": [
    "positive_vals_describe = pd.DataFrame(positive_vals)\n",
    "positive_vals_describe.describe()"
   ]
  },
  {
   "cell_type": "code",
   "execution_count": 21,
   "id": "european-canvas",
   "metadata": {},
   "outputs": [
    {
     "data": {
      "text/html": [
       "<div>\n",
       "<style scoped>\n",
       "    .dataframe tbody tr th:only-of-type {\n",
       "        vertical-align: middle;\n",
       "    }\n",
       "\n",
       "    .dataframe tbody tr th {\n",
       "        vertical-align: top;\n",
       "    }\n",
       "\n",
       "    .dataframe thead th {\n",
       "        text-align: right;\n",
       "    }\n",
       "</style>\n",
       "<table border=\"1\" class=\"dataframe\">\n",
       "  <thead>\n",
       "    <tr style=\"text-align: right;\">\n",
       "      <th></th>\n",
       "      <th>0</th>\n",
       "    </tr>\n",
       "  </thead>\n",
       "  <tbody>\n",
       "    <tr>\n",
       "      <th>count</th>\n",
       "      <td>38.000000</td>\n",
       "    </tr>\n",
       "    <tr>\n",
       "      <th>mean</th>\n",
       "      <td>-0.199118</td>\n",
       "    </tr>\n",
       "    <tr>\n",
       "      <th>std</th>\n",
       "      <td>0.163062</td>\n",
       "    </tr>\n",
       "    <tr>\n",
       "      <th>min</th>\n",
       "      <td>-0.796229</td>\n",
       "    </tr>\n",
       "    <tr>\n",
       "      <th>25%</th>\n",
       "      <td>-0.289457</td>\n",
       "    </tr>\n",
       "    <tr>\n",
       "      <th>50%</th>\n",
       "      <td>-0.161485</td>\n",
       "    </tr>\n",
       "    <tr>\n",
       "      <th>75%</th>\n",
       "      <td>-0.078993</td>\n",
       "    </tr>\n",
       "    <tr>\n",
       "      <th>max</th>\n",
       "      <td>-0.011195</td>\n",
       "    </tr>\n",
       "  </tbody>\n",
       "</table>\n",
       "</div>"
      ],
      "text/plain": [
       "               0\n",
       "count  38.000000\n",
       "mean   -0.199118\n",
       "std     0.163062\n",
       "min    -0.796229\n",
       "25%    -0.289457\n",
       "50%    -0.161485\n",
       "75%    -0.078993\n",
       "max    -0.011195"
      ]
     },
     "execution_count": 21,
     "metadata": {},
     "output_type": "execute_result"
    }
   ],
   "source": [
    "negative_vals_describe = pd.DataFrame(negative_vals)\n",
    "negative_vals_describe.describe()"
   ]
  },
  {
   "cell_type": "markdown",
   "id": "vertical-proportion",
   "metadata": {},
   "source": [
    "# 3. Top-10 Positive and Negative Query Examples\n",
    "In the following, we additionally provide the top-10 query examples of cases where AQE (in particular the text-segment-wise PRF (s) method) improved the ranking performance based on the Average Precision (AveP) the most. Moreover, we provide the top-10 query examples of cases where AQE (in particular the text-segment-wise PRF (s) method) decreased the ranking performance based on the Average Precision (AveP) the most. In the end, we discuss the examples and provide possible explanations why applying AQE for these queries lead to the improvements or decreases of the Average Precision.\n",
    "\n",
    "In particular, we can observe that the queries that can be drastically improved by using AQE are more general queries for requesting more well-known domains (e.g. news, start screen, search screens, login and list screens) and often these queries are less specific. Moreover, we can observe that the queries that decrease the performance by using AQE are more specific, contain more details (the average token number is 6.2 compared to 5.2) and request screens from less well-known domains (e.g. learning piano online, nearby picks, voice changer). For example, the query \"Chinese salad recipes\" requests screens with very specific recipes, whereas the base retrieval will most likely provide more general recipe screens and thus AQE will enforce the focus on more general recipe screens instead of recipe screens specifally for chinese salads. These very detailed and specific requirements in the queries increase the difficulty for the AQE mechansim to improve the results. The ranking performance can most often be improved when (i) there are more relevant screens available in Rico (e.g. the domains are better represented in the GUI population) and (ii) the base ranker is able to retrieve these relevant and similar GUI screens with the initial query. Higher diversity in the initial GUI result set makes it more difficult for the AQE techniques to extract the meaningful expansion terms."
   ]
  },
  {
   "cell_type": "code",
   "execution_count": 22,
   "id": "strong-coordinator",
   "metadata": {},
   "outputs": [],
   "source": [
    "results_1 = np.array(ranker_results['bm25okapi']['AveP'])\n",
    "results_2 = np.array(ranker_results['prf_kld_cat_bm25']['AveP'])\n",
    "differences = results_2 - results_1"
   ]
  },
  {
   "cell_type": "code",
   "execution_count": 23,
   "id": "fifty-inspiration",
   "metadata": {},
   "outputs": [],
   "source": [
    "positive_vals = []\n",
    "negative_vals = []\n",
    "for diff in differences:\n",
    "    if diff >= 0:\n",
    "        positive_vals.append(diff)\n",
    "    else:\n",
    "        negative_vals.append(diff)"
   ]
  },
  {
   "cell_type": "markdown",
   "id": "baking-choice",
   "metadata": {},
   "source": [
    "After computing the differences of the Average Precision metric values per query, we sort these values and obtain their indexes. These indexes can be used to find the corresponding query in our gold standard."
   ]
  },
  {
   "cell_type": "code",
   "execution_count": 24,
   "id": "blond-camel",
   "metadata": {},
   "outputs": [],
   "source": [
    "diff_sorted_hi_low = np.sort(np.array(differences))[::-1]\n",
    "diff_sorted_hi_low_args = np.argsort(np.array(differences))[::-1]"
   ]
  },
  {
   "cell_type": "code",
   "execution_count": 25,
   "id": "extreme-commercial",
   "metadata": {},
   "outputs": [
    {
     "data": {
      "text/plain": [
       "array([ 9, 64, 49, 85, 59, 76, 73,  3, 95, 13, 58, 10, 98, 97, 31, 35, 17,\n",
       "       99, 90, 11, 53, 16, 57,  2, 21, 48, 26, 40, 93, 44, 75,  0, 67, 25,\n",
       "       23, 89, 50, 42, 15,  8, 37, 77, 41,  7, 60, 34, 63, 70, 22, 86, 30,\n",
       "       72, 32, 83, 87, 36, 39, 62, 28, 92, 19, 51, 27, 91, 84, 78, 38, 52,\n",
       "        6, 14, 55, 33, 96,  1, 69, 43, 65, 29, 66, 74, 24, 82, 20, 88, 47,\n",
       "       68, 18, 71, 81, 61, 56, 46,  5, 79, 12, 94, 80, 54, 45,  4],\n",
       "      dtype=int64)"
      ]
     },
     "execution_count": 25,
     "metadata": {},
     "output_type": "execute_result"
    }
   ],
   "source": [
    "diff_sorted_hi_low_args"
   ]
  },
  {
   "cell_type": "code",
   "execution_count": 26,
   "id": "vertical-subsection",
   "metadata": {},
   "outputs": [],
   "source": [
    "diff_sorted_low_hi = np.sort(np.array(differences))\n",
    "diff_sorted_low_hi_args = np.argsort(np.array(differences))"
   ]
  },
  {
   "cell_type": "code",
   "execution_count": 27,
   "id": "english-musical",
   "metadata": {},
   "outputs": [
    {
     "data": {
      "text/plain": [
       "array([ 4, 45, 54, 80, 94, 12, 79,  5, 46, 56, 61, 81, 71, 18, 68, 47, 88,\n",
       "       20, 82, 24, 74, 66, 29, 65, 43, 69,  1, 96, 33, 55, 14,  6, 52, 38,\n",
       "       78, 84, 91, 27, 51, 19, 92, 28, 62, 39, 36, 87, 83, 32, 72, 30, 86,\n",
       "       22, 70, 63, 34, 60,  7, 41, 77, 37,  8, 15, 42, 50, 89, 23, 25, 67,\n",
       "        0, 75, 44, 93, 40, 26, 48, 21,  2, 57, 16, 53, 11, 90, 99, 17, 35,\n",
       "       31, 97, 98, 10, 58, 13, 95,  3, 73, 76, 59, 85, 49, 64,  9],\n",
       "      dtype=int64)"
      ]
     },
     "execution_count": 27,
     "metadata": {},
     "output_type": "execute_result"
    }
   ],
   "source": [
    "diff_sorted_low_hi_args"
   ]
  },
  {
   "cell_type": "markdown",
   "id": "intelligent-fantasy",
   "metadata": {},
   "source": [
    "## 3.1 Top-10 Positive Query Examples\n",
    "In the following, we obtain the top-10 positive query examples that have the highest improvements of the Average Precision when using AQE."
   ]
  },
  {
   "cell_type": "code",
   "execution_count": 28,
   "id": "athletic-greeting",
   "metadata": {},
   "outputs": [],
   "source": [
    "queries_diff_hi_low = [goldstandard.loc[[query_index]][['query']].values.tolist()[0][0] for query_index in diff_sorted_hi_low_args[:10]]"
   ]
  },
  {
   "cell_type": "code",
   "execution_count": 29,
   "id": "visible-ready",
   "metadata": {},
   "outputs": [
    {
     "data": {
      "text/plain": [
       "['home appliances',\n",
       " 'a panel app window with its points',\n",
       " 'sports news overview',\n",
       " 'live breaking news video with another top stories article and video',\n",
       " 'starting screen of Amino',\n",
       " 'search coffee with location',\n",
       " 'online dating',\n",
       " 'a survery app with sinup and facebook login option',\n",
       " 'my net diary with many options',\n",
       " 'a list of songs']"
      ]
     },
     "execution_count": 29,
     "metadata": {},
     "output_type": "execute_result"
    }
   ],
   "source": [
    "queries_diff_hi_low"
   ]
  },
  {
   "cell_type": "code",
   "execution_count": 30,
   "id": "flexible-audience",
   "metadata": {},
   "outputs": [],
   "source": [
    "from nltk import word_tokenize"
   ]
  },
  {
   "cell_type": "code",
   "execution_count": 31,
   "id": "national-crystal",
   "metadata": {},
   "outputs": [],
   "source": [
    "query_lengths_hi_low = [len(word_tokenize(query)) for query in queries_diff_hi_low]"
   ]
  },
  {
   "cell_type": "code",
   "execution_count": 32,
   "id": "technical-completion",
   "metadata": {},
   "outputs": [
    {
     "data": {
      "text/html": [
       "<div>\n",
       "<style scoped>\n",
       "    .dataframe tbody tr th:only-of-type {\n",
       "        vertical-align: middle;\n",
       "    }\n",
       "\n",
       "    .dataframe tbody tr th {\n",
       "        vertical-align: top;\n",
       "    }\n",
       "\n",
       "    .dataframe thead th {\n",
       "        text-align: right;\n",
       "    }\n",
       "</style>\n",
       "<table border=\"1\" class=\"dataframe\">\n",
       "  <thead>\n",
       "    <tr style=\"text-align: right;\">\n",
       "      <th></th>\n",
       "      <th>0</th>\n",
       "    </tr>\n",
       "  </thead>\n",
       "  <tbody>\n",
       "    <tr>\n",
       "      <th>count</th>\n",
       "      <td>10.000000</td>\n",
       "    </tr>\n",
       "    <tr>\n",
       "      <th>mean</th>\n",
       "      <td>5.200000</td>\n",
       "    </tr>\n",
       "    <tr>\n",
       "      <th>std</th>\n",
       "      <td>3.011091</td>\n",
       "    </tr>\n",
       "    <tr>\n",
       "      <th>min</th>\n",
       "      <td>2.000000</td>\n",
       "    </tr>\n",
       "    <tr>\n",
       "      <th>25%</th>\n",
       "      <td>3.250000</td>\n",
       "    </tr>\n",
       "    <tr>\n",
       "      <th>50%</th>\n",
       "      <td>4.000000</td>\n",
       "    </tr>\n",
       "    <tr>\n",
       "      <th>75%</th>\n",
       "      <td>6.750000</td>\n",
       "    </tr>\n",
       "    <tr>\n",
       "      <th>max</th>\n",
       "      <td>11.000000</td>\n",
       "    </tr>\n",
       "  </tbody>\n",
       "</table>\n",
       "</div>"
      ],
      "text/plain": [
       "               0\n",
       "count  10.000000\n",
       "mean    5.200000\n",
       "std     3.011091\n",
       "min     2.000000\n",
       "25%     3.250000\n",
       "50%     4.000000\n",
       "75%     6.750000\n",
       "max    11.000000"
      ]
     },
     "execution_count": 32,
     "metadata": {},
     "output_type": "execute_result"
    }
   ],
   "source": [
    "query_lengths_hi_low_describe = pd.DataFrame(query_lengths_hi_low)\n",
    "query_lengths_hi_low_describe.describe()"
   ]
  },
  {
   "cell_type": "markdown",
   "id": "prepared-canyon",
   "metadata": {},
   "source": [
    "## 3.2 Top-10 Negative Query Examples\n",
    "In the following, we obtain the top-10 negative query examples that have the highest decreases of the Average Precision when using AQE."
   ]
  },
  {
   "cell_type": "code",
   "execution_count": 33,
   "id": "directed-netscape",
   "metadata": {},
   "outputs": [],
   "source": [
    "queries_diff_low_hi = [goldstandard.loc[[query_index]][['query']].values.tolist()[0][0] for query_index in diff_sorted_low_hi_args[:10]]"
   ]
  },
  {
   "cell_type": "code",
   "execution_count": 34,
   "id": "sorted-gross",
   "metadata": {},
   "outputs": [
    {
     "data": {
      "text/plain": [
       "['down nearby picks',\n",
       " 'photo preview app with zoomIn zoomOut options',\n",
       " 'learning and play piano online',\n",
       " 'song with the artist picture and pause button',\n",
       " 'Chinese salad recipes',\n",
       " 'voice changer with many buttons',\n",
       " 'customer complaint service',\n",
       " 'screen with sample movies and information on recording with SnapMovie',\n",
       " 'page that display the questions  with options',\n",
       " 'Information screen to add a tabatas in a tabatas list app']"
      ]
     },
     "execution_count": 34,
     "metadata": {},
     "output_type": "execute_result"
    }
   ],
   "source": [
    "queries_diff_low_hi"
   ]
  },
  {
   "cell_type": "code",
   "execution_count": 35,
   "id": "spanish-joseph",
   "metadata": {},
   "outputs": [],
   "source": [
    "from nltk import word_tokenize"
   ]
  },
  {
   "cell_type": "code",
   "execution_count": 36,
   "id": "furnished-pollution",
   "metadata": {},
   "outputs": [],
   "source": [
    "query_lengths_low_hi = [len(word_tokenize(query)) for query in queries_diff_low_hi]"
   ]
  },
  {
   "cell_type": "code",
   "execution_count": 37,
   "id": "preliminary-cardiff",
   "metadata": {},
   "outputs": [
    {
     "data": {
      "text/html": [
       "<div>\n",
       "<style scoped>\n",
       "    .dataframe tbody tr th:only-of-type {\n",
       "        vertical-align: middle;\n",
       "    }\n",
       "\n",
       "    .dataframe tbody tr th {\n",
       "        vertical-align: top;\n",
       "    }\n",
       "\n",
       "    .dataframe thead th {\n",
       "        text-align: right;\n",
       "    }\n",
       "</style>\n",
       "<table border=\"1\" class=\"dataframe\">\n",
       "  <thead>\n",
       "    <tr style=\"text-align: right;\">\n",
       "      <th></th>\n",
       "      <th>0</th>\n",
       "    </tr>\n",
       "  </thead>\n",
       "  <tbody>\n",
       "    <tr>\n",
       "      <th>count</th>\n",
       "      <td>10.000000</td>\n",
       "    </tr>\n",
       "    <tr>\n",
       "      <th>mean</th>\n",
       "      <td>6.200000</td>\n",
       "    </tr>\n",
       "    <tr>\n",
       "      <th>std</th>\n",
       "      <td>2.898275</td>\n",
       "    </tr>\n",
       "    <tr>\n",
       "      <th>min</th>\n",
       "      <td>3.000000</td>\n",
       "    </tr>\n",
       "    <tr>\n",
       "      <th>25%</th>\n",
       "      <td>3.500000</td>\n",
       "    </tr>\n",
       "    <tr>\n",
       "      <th>50%</th>\n",
       "      <td>6.000000</td>\n",
       "    </tr>\n",
       "    <tr>\n",
       "      <th>75%</th>\n",
       "      <td>7.750000</td>\n",
       "    </tr>\n",
       "    <tr>\n",
       "      <th>max</th>\n",
       "      <td>11.000000</td>\n",
       "    </tr>\n",
       "  </tbody>\n",
       "</table>\n",
       "</div>"
      ],
      "text/plain": [
       "               0\n",
       "count  10.000000\n",
       "mean    6.200000\n",
       "std     2.898275\n",
       "min     3.000000\n",
       "25%     3.500000\n",
       "50%     6.000000\n",
       "75%     7.750000\n",
       "max    11.000000"
      ]
     },
     "execution_count": 37,
     "metadata": {},
     "output_type": "execute_result"
    }
   ],
   "source": [
    "query_lengths_low_hi_describe = pd.DataFrame(query_lengths_low_hi)\n",
    "query_lengths_low_hi_describe.describe()"
   ]
  }
 ],
 "metadata": {
  "kernelspec": {
   "display_name": "Python 3",
   "language": "python",
   "name": "python3"
  },
  "language_info": {
   "codemirror_mode": {
    "name": "ipython",
    "version": 3
   },
   "file_extension": ".py",
   "mimetype": "text/x-python",
   "name": "python",
   "nbconvert_exporter": "python",
   "pygments_lexer": "ipython3",
   "version": "3.8.5"
  }
 },
 "nbformat": 4,
 "nbformat_minor": 5
}
